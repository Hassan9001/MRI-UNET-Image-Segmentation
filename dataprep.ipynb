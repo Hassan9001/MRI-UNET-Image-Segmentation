{
 "cells": [
  {
   "cell_type": "code",
   "execution_count": 2,
   "metadata": {},
   "outputs": [],
   "source": [
    "## Libaries ##\n",
    "import matplotlib.pyplot as plt\n",
    "import os, glob\n",
    "import pandas as pd\n",
    "import numpy as np\n",
    "from IPython.display import display\n",
    "import nibabel as nib\n",
    "import cv2\n",
    "import tensorflow as tf\n",
    "from tensorflow import keras\n",
    "import albumentations as A"
   ]
  },
  {
   "cell_type": "markdown",
   "metadata": {},
   "source": [
    "# (1) Save 3D Volumes Into 2D Slices "
   ]
  },
  {
   "cell_type": "code",
   "execution_count": 7,
   "metadata": {},
   "outputs": [],
   "source": [
    "# Constants\n",
    "SLICE_X = False\n",
    "SLICE_Y = False\n",
    "SLICE_Z = True\n",
    "### Functions ###\n",
    "# 0-1 Normalize Image Intensity Range\n",
    "def normalizeImageIntensityRange(img): # 0-1 Normalize intensity range of image\n",
    "    # img = img / np.max(img) \n",
    "    img_min = np.min(img)\n",
    "    img_max = np.max(img)\n",
    "    img_range = img_max - img_min\n",
    "    return (img - img_min) / img_range\n",
    "\n",
    "# Read image or mask volume\n",
    "def loadVolume(volumePath, binarize_mask=False, normalize=False):\n",
    "    volume = nib.load(volumePath).get_fdata()\n",
    "    if binarize_mask == True: #for Mask/Labels\n",
    "        volume[volume > 1] = 1 #values of 2.0 are converted to 1.0 so that just binary mask\n",
    "    if normalize == True:\n",
    "        volume = normalizeImageIntensityRange(volume)\n",
    "    return volume\n",
    "\n",
    "# Save volume slice to file\n",
    "def saveSlice(vol_slice, fname, path):\n",
    "    image = np.uint8(vol_slice * 255)\n",
    "    fout = os.path.join(path, f'{fname}.png')\n",
    "    if os.path.exists(fout):\n",
    "        print(f\"Overwriting file: [+] Slice saved: {fout}\", end=\"\\r\")\n",
    "    else:\n",
    "        print(f\"[+] Slice saved: {fout}\", end=\"\\r\")  \n",
    "    cv2.imwrite(fout, image)\n",
    "\n",
    "# Slice image in all directions and save\n",
    "def sliceAndSaveVolumeImage(vol, fname, path):\n",
    "    (dimx, dimy, dimz) = vol.shape\n",
    "    cnt = 0\n",
    "    if SLICE_X == True:\n",
    "        cnt += dimx\n",
    "        #print('Slicing X: ')\n",
    "        for d in range(dimx):\n",
    "            saveSlice(vol_slice=vol[d,:,:], fname=fname[:20]+f\"_slice{str(d).zfill(3)}-x\"+fname[20:], path=path)\n",
    "    if SLICE_Y == True:\n",
    "        cnt += dimy\n",
    "        #print('Slicing Y: ')\n",
    "        for d in range(dimy):\n",
    "            saveSlice(vol_slice=vol[:,d,:], frame=fname[:20]+f\"_slice{str(d).zfill(3)}-y\"+fname[20:], path=path)\n",
    "    if SLICE_Z == True:\n",
    "        cnt += dimz\n",
    "        #print('Slicing Z: ')\n",
    "        for d in range(dimz):\n",
    "            saveSlice(vol_slice=vol[:,:,d], fname=fname[:20]+f\"_slice{str(d).zfill(3)}-z\"+fname[20:], path=path)\n",
    "    return cnt\n"
   ]
  },
  {
   "cell_type": "markdown",
   "metadata": {},
   "source": [
    "## - Training Slices"
   ]
  },
  {
   "cell_type": "code",
   "execution_count": null,
   "metadata": {},
   "outputs": [],
   "source": [
    "### TRAINING DATA: Read and process image and mask volumes ###\n",
    "path = 'data/volumes/training_volumes'\n",
    "image_files = sorted(glob.glob(f'{path}/img/*avw.nii.gz')) # Get a list of all image files\n",
    "label_files = sorted(glob.glob(f'{path}/mask/*label.nii.gz')) # Get a list of all label files\n",
    "assert len(image_files) == len(label_files), \"Mismatch in number of image and label files\" # Ensure that the number of image files and label files are the same\n",
    "\n",
    "count=0\n",
    "for subnum in range(len(image_files)):\n",
    "    # load MRI\n",
    "    imgpath = image_files[subnum]\n",
    "    lblpath = label_files[subnum]\n",
    "    img = loadVolume(imgpath, normalize=True)\n",
    "    lbl = loadVolume(lblpath, binarize_mask=True)\n",
    "    print (f'Image[{str(subnum).zfill(2)}] - {type(img)} {img.shape}    min/max = {np.min(img)} < {np.max(img)}    {imgpath}')\n",
    "    print (f'Label[{str(subnum).zfill(2)}] - {type(lbl)} {lbl.shape}    min/max = {np.min(lbl)} < {np.max(lbl)}    {lblpath}')\n",
    "    \n",
    "    # Slicing and saving\n",
    "    if img.shape[-1] >= 14 and img.shape == lbl.shape:#excluding scans with dim3 < 14 and make sure img&lbl is same shape\n",
    "        #images.append(img[:,:,:14])#example of also Cropping: slice dim3 <= 14 \n",
    "        Volume_image_fname = 'trnVolume'+str(subnum).zfill(3)+'__IMAGE__'+((imgpath.split('\\\\'))[1])[:-7]\n",
    "        Volume_label_fname = 'trnVolume'+str(subnum).zfill(3)+'__LABEL__'+((lblpath.split('\\\\'))[1])[:-7]\n",
    "        Icnt = sliceAndSaveVolumeImage(vol=img, fname=Volume_image_fname, path='data/slices/training_slices/img/')# Icnt = sliceAndSaveVolumeImage(vol=img, fname=f\"image{str(subnum).zfill(2)}_({iname})\", path='data/slices/training_slices/img/')\n",
    "        Lcnt = sliceAndSaveVolumeImage(vol=lbl, fname=Volume_label_fname, path='data/slices/training_slices/mask/')# Lcnt = sliceAndSaveVolumeImage(vol=lbl, fname=f\"label{str(subnum).zfill(2)}_({lname})\", path='data/slices/training_slices/mask/')\n",
    "        # print(f\"\\n{'Volume'+str(subnum).zfill(3)+'__'}... Lcnt({Lcnt}) & Icnt({Icnt}) slices created for images and labels respectivley\\n\")\n",
    "        count += Icnt\n",
    "    else:\n",
    "        print (f'Image[{str(subnum).zfill(2)}] - SKIPPED SLICING & SAVING VOLUMES')\n",
    "print(\"\\n\\n\\nAmount of Training Slices (2D images) =\", count)"
   ]
  },
  {
   "cell_type": "markdown",
   "metadata": {},
   "source": [
    "## - Testing Slices"
   ]
  },
  {
   "cell_type": "code",
   "execution_count": null,
   "metadata": {},
   "outputs": [],
   "source": [
    "### TEST DATA: Read and process image and mask volumes ###\n",
    "path = 'data/volumes/test_volumes'\n",
    "image_files = sorted(glob.glob(f'{path}/img/*avw.nii.gz')) # Get a list of all image files\n",
    "label_files = sorted(glob.glob(f'{path}/mask/*.nii.gz')) # Get a list of all label files\n",
    "assert len(image_files) == len(label_files), \"Mismatch in number of image and label files\" # Ensure that the number of image files and label files are the same\n",
    "count=0\n",
    "for subnum in range(len(image_files)):\n",
    "    # load MRI\n",
    "    imgpath = image_files[subnum]\n",
    "    lblpath = label_files[subnum]\n",
    "    img = loadVolume(imgpath, normalize=True)\n",
    "    lbl = loadVolume(lblpath, binarize_mask=True)\n",
    "    print (f'Image[{str(subnum).zfill(2)}] - {type(img)} {img.shape}    min/max = {np.min(img)} < {np.max(img)}    {imgpath}')\n",
    "    print (f'Label[{str(subnum).zfill(2)}] - {type(lbl)} {lbl.shape}    min/max = {np.min(lbl)} < {np.max(lbl)}    {lblpath}')\n",
    "    \n",
    "    # Slicing and saving\n",
    "    if img.shape[-1] >= 14 and img.shape == lbl.shape:#excluding scans with dim3 < 14 and make sure img&lbl is same shape\n",
    "        Volume_image_fname = 'tstVolume'+str(subnum).zfill(3)+'__IMAGE__'+((imgpath.split('\\\\'))[1])[:-7]\n",
    "        Volume_label_fname = 'tstVolume'+str(subnum).zfill(3)+'__LABEL__'+((lblpath.split('\\\\'))[1])[:-7]\n",
    "        Icnt = sliceAndSaveVolumeImage(vol=img, fname=Volume_image_fname, path='data/slices/test_slices/img/')# Icnt = sliceAndSaveVolumeImage(vol=img, fname=f\"image{str(subnum).zfill(2)}_({iname})\", path='data/slices/training_slices/img/')\n",
    "        Lcnt = sliceAndSaveVolumeImage(vol=lbl, fname=Volume_label_fname, path='data/slices/test_slices/mask/')# Lcnt = sliceAndSaveVolumeImage(vol=lbl, fname=f\"label{str(subnum).zfill(2)}_({lname})\", path='data/slices/training_slices/mask/')\n",
    "        # print(f\"\\n{'Volume'+str(subnum).zfill(3)+'__'}... Lcnt({Lcnt}) & Icnt({Icnt}) slices created for images and labels respectivley\\n\")\n",
    "        count += Icnt\n",
    "    else:\n",
    "        print (f'Image[{str(subnum).zfill(2)}] - SKIPPED SLICING & SAVING VOLUMES')\n",
    "print(\"\\n\\n\\nAmount of Test Slices (2D images) =\", count)"
   ]
  },
  {
   "cell_type": "markdown",
   "metadata": {},
   "source": [
    "# (2) Create Set of Augmentation Slices"
   ]
  },
  {
   "cell_type": "code",
   "execution_count": null,
   "metadata": {},
   "outputs": [],
   "source": [
    "### CREATING AUGMENTATION FILES ##\n",
    "original_images_path = 'data/slices/training_slices/img'\n",
    "original_masks_path = 'data/slices/training_slices/mask'\n",
    "augmented_images_path = 'data/slices/training_slices/augimg'\n",
    "augmented_masks_path = 'data/slices/training_slices/augmask'\n",
    "os.makedirs(augmented_images_path, exist_ok=True)\n",
    "os.makedirs(augmented_masks_path, exist_ok=True)\n",
    "\n",
    "# Augmentation pipeline\n",
    "augmentations = A.Compose([A.HorizontalFlip(p=0.5),\n",
    "                           A.VerticalFlip(p=0.5),\n",
    "                           A.RandomBrightnessContrast(p=0.2)])\n",
    "\n",
    "# Load and augment images\n",
    "image_filenames = sorted(os.listdir(original_images_path))\n",
    "mask_filenames = sorted(os.listdir(original_masks_path))\n",
    "assert len(image_filenames) == len(mask_filenames), \"Mismatch in number of image and mask files\"\n",
    "\n",
    "for img_file, mask_file in zip(image_filenames, mask_filenames):\n",
    "    img = cv2.imread(os.path.join(original_images_path, img_file), cv2.IMREAD_GRAYSCALE)\n",
    "    mask = cv2.imread(os.path.join(original_masks_path, mask_file), cv2.IMREAD_GRAYSCALE)\n",
    "    \n",
    "    # Convert images to float32 numpy arrays\n",
    "    img = img.astype(np.float32) / 255.0  # Normalize images to [0, 1]\n",
    "    mask = mask.astype(np.float32) / 255.0  # Normalize masks to [0, 1]\n",
    "    \n",
    "    for i in range(5):  # Generate 5 augmented versions of each image\n",
    "        augmented = augmentations(image=img, mask=mask)\n",
    "        aug_img, aug_mask = augmented['image'], augmented['mask']\n",
    "        aug_img_filename = f'aug_{i}_{img_file}'\n",
    "        aug_mask_filename = f'aug_{i}_{mask_file}'\n",
    "        \n",
    "        # Convert images back to uint8 for saving\n",
    "        aug_img = (aug_img * 255).astype(np.uint8)\n",
    "        aug_mask = (aug_mask * 255).astype(np.uint8)\n",
    "        cv2.imwrite(os.path.join(augmented_images_path, aug_img_filename), aug_img)\n",
    "        cv2.imwrite(os.path.join(augmented_masks_path, aug_mask_filename), aug_mask)\n",
    "\n",
    "print('Augmentation complete. Check the augmented images and masks at the specified paths.')"
   ]
  }
 ],
 "metadata": {
  "kernelspec": {
   "display_name": "base",
   "language": "python",
   "name": "python3"
  },
  "language_info": {
   "codemirror_mode": {
    "name": "ipython",
    "version": 3
   },
   "file_extension": ".py",
   "mimetype": "text/x-python",
   "name": "python",
   "nbconvert_exporter": "python",
   "pygments_lexer": "ipython3",
   "version": "3.12.7"
  }
 },
 "nbformat": 4,
 "nbformat_minor": 2
}
