{
 "cells": [
  {
   "cell_type": "markdown",
   "metadata": {},
   "source": [
    "# Creating Set of Augmentation Slices"
   ]
  },
  {
   "cell_type": "code",
   "execution_count": null,
   "metadata": {},
   "outputs": [],
   "source": [
    "### CREATING AUGMENTATION FILES ##\n",
    "######################################\n",
    "import os\n",
    "import numpy as np\n",
    "import cv2\n",
    "import albumentations as A\n",
    "\n",
    "# Paths\n",
    "original_images_path = 'data/slices/training_slices/img'\n",
    "original_masks_path = 'data/slices/training_slices/mask'\n",
    "augmented_images_path = 'data/slices/training_slices/augimg'\n",
    "augmented_masks_path = 'data/slices/training_slices/augmask'\n",
    "os.makedirs(augmented_images_path, exist_ok=True)\n",
    "os.makedirs(augmented_masks_path, exist_ok=True)\n",
    "\n",
    "# Augmentation pipeline\n",
    "augmentations = A.Compose([A.HorizontalFlip(p=0.5),\n",
    "                           A.VerticalFlip(p=0.5),\n",
    "                           A.RandomBrightnessContrast(p=0.2)])\n",
    "\n",
    "# Load and augment images\n",
    "image_filenames = sorted(os.listdir(original_images_path))\n",
    "mask_filenames = sorted(os.listdir(original_masks_path))\n",
    "assert len(image_filenames) == len(mask_filenames), \"Mismatch in number of image and mask files\"\n",
    "\n",
    "for img_file, mask_file in zip(image_filenames, mask_filenames):\n",
    "    img = cv2.imread(os.path.join(original_images_path, img_file), cv2.IMREAD_GRAYSCALE)\n",
    "    mask = cv2.imread(os.path.join(original_masks_path, mask_file), cv2.IMREAD_GRAYSCALE)\n",
    "    \n",
    "    # Convert images to float32 numpy arrays\n",
    "    img = img.astype(np.float32) / 255.0  # Normalize images to [0, 1]\n",
    "    mask = mask.astype(np.float32) / 255.0  # Normalize masks to [0, 1]\n",
    "    \n",
    "    for i in range(5):  # Generate 5 augmented versions of each image\n",
    "        augmented = augmentations(image=img, mask=mask)\n",
    "        aug_img, aug_mask = augmented['image'], augmented['mask']\n",
    "        aug_img_filename = f'aug_{i}_{img_file}'\n",
    "        aug_mask_filename = f'aug_{i}_{mask_file}'\n",
    "        \n",
    "        # Convert images back to uint8 for saving\n",
    "        aug_img = (aug_img * 255).astype(np.uint8)\n",
    "        aug_mask = (aug_mask * 255).astype(np.uint8)\n",
    "        cv2.imwrite(os.path.join(augmented_images_path, aug_img_filename), aug_img)\n",
    "        cv2.imwrite(os.path.join(augmented_masks_path, aug_mask_filename), aug_mask)\n",
    "\n",
    "print('Augmentation complete. Check the augmented images and masks at the specified paths.')\n"
   ]
  }
 ],
 "metadata": {
  "language_info": {
   "name": "python"
  }
 },
 "nbformat": 4,
 "nbformat_minor": 2
}
