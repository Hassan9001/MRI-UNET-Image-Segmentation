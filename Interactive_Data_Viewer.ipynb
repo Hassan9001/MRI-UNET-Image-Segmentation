{
 "cells": [
  {
   "cell_type": "markdown",
   "metadata": {},
   "source": [
    "<!-- ![Widget Layout](files/participant-10_slice-z8_WIDGET-EXAMPLE.png) -->\n",
    "![Widget Layout](https://github.com/Hassan9001/MRI-UNET-Image-Segmentation/blob/main/files/participant-10_slice-z8_WIDGET-EXAMPLE.png)\n",
    "Circled in red:\n",
    "- Z-slider for easy scrolling through volume slices along the Z-axis.\n",
    "- ON/OFF Mask toggle to display a red mask overtop the corrisponding kidney image.\n",
    "- Participant selector allows for easy switching between particpant volumes.\n"
   ]
  },
  {
   "cell_type": "markdown",
   "metadata": {},
   "source": [
    "# Interactive Widget code:"
   ]
  },
  {
   "cell_type": "code",
   "execution_count": 2,
   "metadata": {},
   "outputs": [
    {
     "name": "stdout",
     "output_type": "stream",
     "text": [
      "Image:    shape=(256, 256, 16)    min-max= 0.0->1.0        <class 'numpy.ndarray'>\n",
      "Mask:    shape=(256, 256, 16)    min-max= 0.0->1.0        <class 'numpy.ndarray'>\n"
     ]
    },
    {
     "data": {
      "application/vnd.jupyter.widget-view+json": {
       "model_id": "3a8924f8aea846a9962e6b13ac5ac163",
       "version_major": 2,
       "version_minor": 0
      },
      "text/plain": [
       "interactive(children=(IntSlider(value=8, description='Z', max=15), ToggleButton(value=True, description='Show …"
      ]
     },
     "metadata": {},
     "output_type": "display_data"
    }
   ],
   "source": [
    "import os\n",
    "import nibabel as nib\n",
    "import numpy as np\n",
    "import matplotlib.pyplot as plt\n",
    "import ipywidgets as widgets\n",
    "from IPython.display import display\n",
    "\n",
    "# Paths to the image and mask directories\n",
    "imgPath = 'data/volumes/training_volumes/img/'\n",
    "lblPath = 'data/volumes/training_volumes/mask/'\n",
    "img_fnames = os.listdir(imgPath)\n",
    "lbl_fnames = os.listdir(lblPath)\n",
    "img_data = nib.load(os.path.join(imgPath, img_fnames[0])).get_fdata()\n",
    "mask_data = nib.load(os.path.join(lblPath, lbl_fnames[0])).get_fdata()\n",
    "mask_data[mask_data > 1] = 1  # Convert mask to binary\n",
    "img_data = (img_data - np.min(img_data)) / (np.max(img_data) - np.min(img_data))  # Normalize image intensity\n",
    "print(f'Image:    shape={img_data.shape}    min-max= {np.min(img_data)}->{np.max(img_data)}        {type(img_data)}')\n",
    "print(f'Mask:    shape={mask_data.shape}    min-max= {np.min(mask_data)}->{np.max(mask_data)}        {type(mask_data)}')\n",
    "\n",
    "# Define a function to update the plot when the z slider is changed\n",
    "def update_plot(z, show_mask, participant):\n",
    "    img_data = nib.load(os.path.join(imgPath, img_fnames[participant])).get_fdata()\n",
    "    mask_data = nib.load(os.path.join(lblPath, lbl_fnames[participant])).get_fdata()\n",
    "    mask_data[mask_data > 1] = 1\n",
    "    img_data = (img_data - np.min(img_data)) / (np.max(img_data) - np.min(img_data))\n",
    "    plt.figure(figsize=(5, 5))\n",
    "    plt.imshow(img_data[:, :, z], cmap='gray')\n",
    "    if show_mask:\n",
    "        plt.imshow(mask_data[:, :, z], cmap='Reds', alpha=0.2)  # Overlay mask with some transparency\n",
    "    plt.title(f'Coronal (z) - {z} | Participant - {participant}')\n",
    "    plt.show()\n",
    "\n",
    "# Create slider for z dimension\n",
    "z_slider = widgets.IntSlider(min=0, max=img_data.shape[2]-1, step=1, value=img_data.shape[2]//2, description='Z')\n",
    "# Create toggle button for mask\n",
    "mask_toggle = widgets.ToggleButton(\n",
    "    value=True,\n",
    "    description='Show Mask',\n",
    "    disabled=False,\n",
    "    button_style='', \n",
    "    tooltip='Toggle Mask Display',\n",
    "    icon='eye')\n",
    "# Create dropdown for participant selection\n",
    "participant_selector = widgets.Dropdown(\n",
    "    options=list(range(len(img_fnames))),\n",
    "    value=0,\n",
    "    description='Participant',\n",
    "    disabled=False)\n",
    "# Display the interactive plot with the widgets\n",
    "interactive_plot = widgets.interactive(update_plot, z=z_slider, show_mask=mask_toggle, participant=participant_selector)\n",
    "display(interactive_plot)\n",
    "\n",
    "\n"
   ]
  }
 ],
 "metadata": {
  "kernelspec": {
   "display_name": "base",
   "language": "python",
   "name": "python3"
  },
  "language_info": {
   "codemirror_mode": {
    "name": "ipython",
    "version": 3
   },
   "file_extension": ".py",
   "mimetype": "text/x-python",
   "name": "python",
   "nbconvert_exporter": "python",
   "pygments_lexer": "ipython3",
   "version": "3.12.7"
  }
 },
 "nbformat": 4,
 "nbformat_minor": 2
}
